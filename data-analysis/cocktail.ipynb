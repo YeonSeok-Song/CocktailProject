{
 "cells": [
  {
   "cell_type": "code",
   "execution_count": null,
   "id": "d1185657",
   "metadata": {},
   "outputs": [],
   "source": [
    "import matplotlib.ticker as ticker\n",
    "# numpy\n",
    "import numpy as np\n",
    "\n",
    "# pandas\n",
    "import pandas as pd \n",
    "\n",
    "# seaborn\n",
    "import seaborn as sns\n",
    "\n",
    "# matplotlib\n",
    "import matplotlib.pyplot as plt\n",
    "%matplotlib inline"
   ]
  },
  {
   "cell_type": "code",
   "execution_count": null,
   "id": "fc3a8b1b",
   "metadata": {},
   "outputs": [],
   "source": [
    "# data 불러오기\n",
    "csv = \"cocktail.csv\"\n",
    "df = pd.read_csv(csv)"
   ]
  },
  {
   "cell_type": "code",
   "execution_count": null,
   "id": "12f1e5ae",
   "metadata": {},
   "outputs": [],
   "source": [
    "df"
   ]
  },
  {
   "cell_type": "code",
   "execution_count": null,
   "id": "57fe0085",
   "metadata": {},
   "outputs": [],
   "source": [
    "df2 = df.copy()\n",
    "cocktail = df2[df2[\"month\"] == 'total'].drop(columns = [\"Unnamed: 0\"]).groupby(['name'])[[\"visitors\"]].sum().sort_values(by='visitors')\n",
    "cocktail = cocktail.tail(10)"
   ]
  },
  {
   "cell_type": "code",
   "execution_count": null,
   "id": "85853504",
   "metadata": {},
   "outputs": [],
   "source": [
    "from matplotlib import rc\n",
    "rc('font', family='AppleGothic')\n",
    "\n",
    "plt.rcParams['axes.unicode_minus'] = False"
   ]
  },
  {
   "cell_type": "code",
   "execution_count": null,
   "id": "ecf28292",
   "metadata": {},
   "outputs": [],
   "source": [
    "plt.figure(figsize = (20, 10))\n",
    "\n",
    "plt.bar(cocktail.index, cocktail['visitors'], color=\"lightcoral\")\n",
    "plt.xlabel('칵테일') # x축 이름 지정\n",
    "plt.ylabel('방문자 수') # y축 이름 지정\n",
    "plt.title('2002년~2020년 칵테일 TOP 10')\n",
    "\n",
    "\n",
    "plt.savefig('./cocktail_top10.png')"
   ]
  },
  {
   "cell_type": "code",
   "execution_count": null,
   "id": "b7e68369",
   "metadata": {},
   "outputs": [],
   "source": [
    "df3 = df.copy()\n",
    "df3 = df3[df3[\"month\"] == \"total\"]\n",
    "df3['place'] = df3['place'].astype('int64')\n",
    "\n",
    "df3 = df3[df3[\"place\"] == 1].reset_index(drop=True)\n",
    "df3.set_index('year', inplace=True)\n",
    "\n",
    "plt.figure(figsize = (20, 10))\n",
    "plt.bar(df3.index, df3['visitors'], color=\"lightblue\")\n",
    "plt.bar(cocktail.index, cocktail['visitors'], color=\"lightcoral\")\n",
    "plt.xlabel('Year') # x축 이름 지정\n",
    "plt.ylabel('Visitors') # y축 이름 지정\n",
    "plt.xticks(list(range(2001,2021)))\n",
    "plt.title('1st')\n",
    "\n",
    "plt.show()"
   ]
  },
  {
   "cell_type": "code",
   "execution_count": null,
   "id": "d3fb2410",
   "metadata": {},
   "outputs": [],
   "source": []
  }
 ],
 "metadata": {
  "kernelspec": {
   "display_name": "Python 3 (ipykernel)",
   "language": "python",
   "name": "python3"
  },
  "language_info": {
   "codemirror_mode": {
    "name": "ipython",
    "version": 3
   },
   "file_extension": ".py",
   "mimetype": "text/x-python",
   "name": "python",
   "nbconvert_exporter": "python",
   "pygments_lexer": "ipython3",
   "version": "3.10.4"
  }
 },
 "nbformat": 4,
 "nbformat_minor": 5
}
